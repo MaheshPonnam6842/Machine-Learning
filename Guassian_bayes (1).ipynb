{
 "cells": [
  {
   "cell_type": "markdown",
   "id": "9c03b46f-c555-4cf3-9437-83742df60430",
   "metadata": {},
   "source": [
    "### Titanic Survival Prediction\n",
    "\n",
    "You are a data scientist / AI engineer working on a binary classification problem to predict the survival of passengers from the Titanic crash. You have been provided with a dataset named **`\"titanic.csv\"`** which includes various features of passengers to predict whether they survived or not. The dataset comprises the following columns:\n",
    "\n",
    "- `passenger_id:` The unique identifier for each passenger.\n",
    "- `name:` The name of the passenger.\n",
    "- `p_class:` The passenger class (1 = 1st class, 2 = 2nd class, 3 = 3rd class).\n",
    "- `sex:` The gender of the passenger.\n",
    "- `age:` The age of the passenger.\n",
    "- `sib_sp:` The number of siblings or spouses the passenger had aboard the Titanic.\n",
    "- `parch:` The number of parents or children the passenger had aboard the Titanic.\n",
    "- `ticket:` The ticket number of the passenger.\n",
    "- `fare:` The fare the passenger paid for the ticket.\n",
    "- `cabin:` The cabin number where the passenger stayed.\n",
    "- `embarked:` The port where the passenger boarded the Titanic (C = Cherbourg; Q = Queenstown; S = Southampton).\n",
    "- `survived:` Whether the passenger survived (1) or not (0).\n",
    "\n",
    "Your task is to use this dataset to build and evaluate a `Gaussian Naive Bayes` model to predict whether a passenger survived based on their features. You will also evaluate the model's performance using precision, recall, and other classification metrics."
   ]
  },
  {
   "cell_type": "markdown",
   "id": "b69af457-1cf7-45b2-88b2-dd0a1e801c56",
   "metadata": {},
   "source": [
    "**Import Necessary Libraries**"
   ]
  },
  {
   "cell_type": "code",
   "execution_count": 8,
   "id": "c8160e63-5083-44f1-8d52-f21d4579733d",
   "metadata": {},
   "outputs": [],
   "source": [
    "# Import Necessary Libraries\n",
    "import pandas as pd\n",
    "import math as m\n",
    "from matplotlib import pyplot as plt\n",
    "import seaborn as sns \n",
    "from sklearn.linear_model import LogisticRegression\n",
    "from sklearn.model_selection import train_test_split\n",
    "from sklearn.metrics import classification_report,confusion_matrix,accuracy_score\n",
    "from sklearn.svm import SVC\n",
    "from sklearn.svm import SVR\n",
    "from sklearn.pipeline import Pipeline\n",
    "from sklearn.naive_bayes import GaussianNB\n",
    "from sklearn.preprocessing import StandardScaler,MinMaxScaler"
   ]
  },
  {
   "cell_type": "markdown",
   "id": "98288af3-582f-42d7-ae63-241aeff7809b",
   "metadata": {},
   "source": [
    "### Task 1: Data Preparation and Exploration\n",
    "\n",
    "1. Import the data from the `\"titanic.csv\"` file and store it in a variable df.\n",
    "2. Display the number of rows and columns in the dataset.\n",
    "3. Display the first few rows of the dataset to get an overview.\n",
    "4. Check for any missing values in the dataset.\n",
    "5. Drop columns that do not add much value `(passenger_id, name, sib_sp, parch, ticket, cabin, embarked)`.\n",
    "6. Visualize the distribution of the target variable `survived` and `p_class` using a bar chart.\n",
    "7. Visualize the distribution of `sex` using a pie chart (percentage).\n",
    "8. Visualize the distribution of `age` and `fare` using histograms."
   ]
  },
  {
   "cell_type": "code",
   "execution_count": 10,
   "id": "e3afaa1a-9c2e-440e-afe8-e42c81539af4",
   "metadata": {},
   "outputs": [
    {
     "data": {
      "text/html": [
       "<div>\n",
       "<style scoped>\n",
       "    .dataframe tbody tr th:only-of-type {\n",
       "        vertical-align: middle;\n",
       "    }\n",
       "\n",
       "    .dataframe tbody tr th {\n",
       "        vertical-align: top;\n",
       "    }\n",
       "\n",
       "    .dataframe thead th {\n",
       "        text-align: right;\n",
       "    }\n",
       "</style>\n",
       "<table border=\"1\" class=\"dataframe\">\n",
       "  <thead>\n",
       "    <tr style=\"text-align: right;\">\n",
       "      <th></th>\n",
       "      <th>passenger_id</th>\n",
       "      <th>name</th>\n",
       "      <th>p_class</th>\n",
       "      <th>sex</th>\n",
       "      <th>age</th>\n",
       "      <th>sib_sp</th>\n",
       "      <th>parch</th>\n",
       "      <th>ticket</th>\n",
       "      <th>fare</th>\n",
       "      <th>cabin</th>\n",
       "      <th>embarked</th>\n",
       "      <th>survived</th>\n",
       "    </tr>\n",
       "  </thead>\n",
       "  <tbody>\n",
       "    <tr>\n",
       "      <th>0</th>\n",
       "      <td>1</td>\n",
       "      <td>Braund, Mr. Owen Harris</td>\n",
       "      <td>3</td>\n",
       "      <td>male</td>\n",
       "      <td>22.0</td>\n",
       "      <td>1</td>\n",
       "      <td>0</td>\n",
       "      <td>A/5 21171</td>\n",
       "      <td>7.2500</td>\n",
       "      <td>NaN</td>\n",
       "      <td>S</td>\n",
       "      <td>0</td>\n",
       "    </tr>\n",
       "    <tr>\n",
       "      <th>1</th>\n",
       "      <td>2</td>\n",
       "      <td>Cumings, Mrs. John Bradley (Florence Briggs Th...</td>\n",
       "      <td>1</td>\n",
       "      <td>female</td>\n",
       "      <td>38.0</td>\n",
       "      <td>1</td>\n",
       "      <td>0</td>\n",
       "      <td>PC 17599</td>\n",
       "      <td>71.2833</td>\n",
       "      <td>C85</td>\n",
       "      <td>C</td>\n",
       "      <td>1</td>\n",
       "    </tr>\n",
       "    <tr>\n",
       "      <th>2</th>\n",
       "      <td>3</td>\n",
       "      <td>Heikkinen, Miss. Laina</td>\n",
       "      <td>3</td>\n",
       "      <td>female</td>\n",
       "      <td>26.0</td>\n",
       "      <td>0</td>\n",
       "      <td>0</td>\n",
       "      <td>STON/O2. 3101282</td>\n",
       "      <td>NaN</td>\n",
       "      <td>NaN</td>\n",
       "      <td>S</td>\n",
       "      <td>1</td>\n",
       "    </tr>\n",
       "    <tr>\n",
       "      <th>3</th>\n",
       "      <td>4</td>\n",
       "      <td>Futrelle, Mrs. Jacques Heath (Lily May Peel)</td>\n",
       "      <td>1</td>\n",
       "      <td>female</td>\n",
       "      <td>35.0</td>\n",
       "      <td>1</td>\n",
       "      <td>0</td>\n",
       "      <td>113803</td>\n",
       "      <td>53.1000</td>\n",
       "      <td>C123</td>\n",
       "      <td>S</td>\n",
       "      <td>1</td>\n",
       "    </tr>\n",
       "    <tr>\n",
       "      <th>4</th>\n",
       "      <td>5</td>\n",
       "      <td>Allen, Mr. William Henry</td>\n",
       "      <td>3</td>\n",
       "      <td>male</td>\n",
       "      <td>35.0</td>\n",
       "      <td>0</td>\n",
       "      <td>0</td>\n",
       "      <td>373450</td>\n",
       "      <td>8.0500</td>\n",
       "      <td>NaN</td>\n",
       "      <td>S</td>\n",
       "      <td>0</td>\n",
       "    </tr>\n",
       "  </tbody>\n",
       "</table>\n",
       "</div>"
      ],
      "text/plain": [
       "   passenger_id                                               name  p_class  \\\n",
       "0             1                            Braund, Mr. Owen Harris        3   \n",
       "1             2  Cumings, Mrs. John Bradley (Florence Briggs Th...        1   \n",
       "2             3                             Heikkinen, Miss. Laina        3   \n",
       "3             4       Futrelle, Mrs. Jacques Heath (Lily May Peel)        1   \n",
       "4             5                           Allen, Mr. William Henry        3   \n",
       "\n",
       "      sex   age  sib_sp  parch            ticket     fare cabin embarked  \\\n",
       "0    male  22.0       1      0         A/5 21171   7.2500   NaN        S   \n",
       "1  female  38.0       1      0          PC 17599  71.2833   C85        C   \n",
       "2  female  26.0       0      0  STON/O2. 3101282      NaN   NaN        S   \n",
       "3  female  35.0       1      0            113803  53.1000  C123        S   \n",
       "4    male  35.0       0      0            373450   8.0500   NaN        S   \n",
       "\n",
       "   survived  \n",
       "0         0  \n",
       "1         1  \n",
       "2         1  \n",
       "3         1  \n",
       "4         0  "
      ]
     },
     "execution_count": 10,
     "metadata": {},
     "output_type": "execute_result"
    }
   ],
   "source": [
    "# Step 1: Import the data from the \"titanic.csv\" file and store it in a variable df\n",
    "df=pd.read_csv(\"titanic.csv\" )\n",
    "\n",
    "# Step 2: Display the number of rows and columns in the dataset\n",
    "df.shape\n",
    "\n",
    "# Step 3: Display the first few rows of the dataset to get an overview\n",
    "df.head()"
   ]
  },
  {
   "cell_type": "code",
   "execution_count": 11,
   "id": "4123d602-5c2f-4524-9c89-1435807d0a22",
   "metadata": {},
   "outputs": [
    {
     "data": {
      "text/plain": [
       "passenger_id      0\n",
       "name              0\n",
       "p_class           0\n",
       "sex               0\n",
       "age             177\n",
       "sib_sp            0\n",
       "parch             0\n",
       "ticket            0\n",
       "fare              9\n",
       "cabin           687\n",
       "embarked          2\n",
       "survived          0\n",
       "dtype: int64"
      ]
     },
     "execution_count": 11,
     "metadata": {},
     "output_type": "execute_result"
    }
   ],
   "source": [
    "# Step 4: Check for any missing values in the dataset \n",
    "df.isnull().sum()"
   ]
  },
  {
   "cell_type": "code",
   "execution_count": 15,
   "id": "50929a5c-a225-4b96-9bba-dbf75eb709f1",
   "metadata": {},
   "outputs": [],
   "source": [
    "# Step 5: Drop columns that do not add much value (passenger_id, name, sib_sp, parch, ticket, cabin, embarked)\n",
    "# Step 5: Drop columns that do not add much value (passenger_id, name, sib_sp, parch, ticket, cabin, embarked)\n",
    "df=df.drop(['passenger_id','name','sib_sp','parch','ticket','cabin','embarked'],axis=1)"
   ]
  },
  {
   "cell_type": "code",
   "execution_count": 17,
   "id": "a51bf3e9-0cef-448f-b45e-0f39e95369be",
   "metadata": {},
   "outputs": [
    {
     "data": {
      "text/plain": [
       "<Axes: xlabel='p_class'>"
      ]
     },
     "execution_count": 17,
     "metadata": {},
     "output_type": "execute_result"
    },
    {
     "data": {
      "image/png": "[encoded data removed]",
      "text/plain": [
       "<Figure size 640x480 with 1 Axes>"
      ]
     },
     "metadata": {},
     "output_type": "display_data"
    }
   ],
   "source": [
    "# Step 6: Visualize the distribution\n",
    "\n",
    "\n",
    "\n",
    "# 'p_class'\n",
    "df['p_class'].value_counts().plot(kind='bar')\n"
   ]
  },
  {
   "cell_type": "code",
   "execution_count": 18,
   "id": "fc0aca5b-23bb-4ba2-98d0-b24a50d32ba7",
   "metadata": {},
   "outputs": [
    {
     "data": {
      "text/plain": [
       "<Axes: xlabel='survived'>"
      ]
     },
     "execution_count": 18,
     "metadata": {},
     "output_type": "execute_result"
    },
    {
     "data": {
      "image/png": "[encoded data removed]",
      "text/plain": [
       "<Figure size 640x480 with 1 Axes>"
      ]
     },
     "metadata": {},
     "output_type": "display_data"
    }
   ],
   "source": [
    "#'survived'\n",
    "df['survived'].value_counts().plot(kind='bar')"
   ]
  },
  {
   "cell_type": "code",
   "execution_count": 21,
   "id": "ee5d7c57-c546-4315-a1c6-66293c947d57",
   "metadata": {},
   "outputs": [
    {
     "data": {
      "text/html": [
       "<div>\n",
       "<style scoped>\n",
       "    .dataframe tbody tr th:only-of-type {\n",
       "        vertical-align: middle;\n",
       "    }\n",
       "\n",
       "    .dataframe tbody tr th {\n",
       "        vertical-align: top;\n",
       "    }\n",
       "\n",
       "    .dataframe thead th {\n",
       "        text-align: right;\n",
       "    }\n",
       "</style>\n",
       "<table border=\"1\" class=\"dataframe\">\n",
       "  <thead>\n",
       "    <tr style=\"text-align: right;\">\n",
       "      <th></th>\n",
       "      <th>sex</th>\n",
       "      <th>count</th>\n",
       "    </tr>\n",
       "  </thead>\n",
       "  <tbody>\n",
       "    <tr>\n",
       "      <th>0</th>\n",
       "      <td>male</td>\n",
       "      <td>577</td>\n",
       "    </tr>\n",
       "    <tr>\n",
       "      <th>1</th>\n",
       "      <td>female</td>\n",
       "      <td>314</td>\n",
       "    </tr>\n",
       "  </tbody>\n",
       "</table>\n",
       "</div>"
      ],
      "text/plain": [
       "      sex  count\n",
       "0    male    577\n",
       "1  female    314"
      ]
     },
     "execution_count": 21,
     "metadata": {},
     "output_type": "execute_result"
    }
   ],
   "source": [
    "df_pie=df['sex'].value_counts().reset_index()\n",
    "df_pie"
   ]
  },
  {
   "cell_type": "code",
   "execution_count": 23,
   "id": "ff252510-d2e8-4b22-a5c4-e08475c915b3",
   "metadata": {},
   "outputs": [
    {
     "data": {
      "text/plain": [
       "<Axes: ylabel='count'>"
      ]
     },
     "execution_count": 23,
     "metadata": {},
     "output_type": "execute_result"
    },
    {
     "data": {
      "image/png": "[encoded data removed]",
      "text/plain": [
       "<Figure size 640x480 with 1 Axes>"
      ]
     },
     "metadata": {},
     "output_type": "display_data"
    }
   ],
   "source": [
    "# Step 7: Visualize the distribution of 'sex' using a pie chart (percentage)\n",
    "df['sex'].value_counts().plot(kind='pie',labels=df_pie['sex'],autopct='%1.1f%%')"
   ]
  },
  {
   "cell_type": "code",
   "execution_count": 25,
   "id": "44b2d4f2-841a-430c-8072-ddb2d9a4d69e",
   "metadata": {},
   "outputs": [
    {
     "data": {
      "image/png": "[encoded data removed]",
      "text/plain": [
       "<Figure size 640x480 with 1 Axes>"
      ]
     },
     "metadata": {},
     "output_type": "display_data"
    }
   ],
   "source": [
    "# Step 8: Visualize the distribution of 'age' using a histogram\n",
    "df['age'].plot(kind='hist',bins=30)\n",
    "plt.xlabel('Age')\n",
    "plt.ylabel('Frequency')\n",
    "plt.show()"
   ]
  },
  {
   "cell_type": "code",
   "execution_count": 26,
   "id": "488ce36d-53d6-4f63-94e1-8ef1e716b189",
   "metadata": {},
   "outputs": [
    {
     "data": {
      "text/plain": [
       "Text(0.5, 0, 'fare')"
      ]
     },
     "execution_count": 26,
     "metadata": {},
     "output_type": "execute_result"
    },
    {
     "data": {
      "image/png": "[encoded data removed]",
      "text/plain": [
       "<Figure size 640x480 with 1 Axes>"
      ]
     },
     "metadata": {},
     "output_type": "display_data"
    }
   ],
   "source": [
    "# Step 9: Visualize the distribution of 'fare' using a histogram\n",
    "df['fare'].plot(kind='hist',bins=20)\n",
    "plt.xlabel('fare')"
   ]
  },
  {
   "cell_type": "markdown",
   "id": "65491a7f-98a5-481e-b380-23b517fb4c0f",
   "metadata": {},
   "source": [
    "### Task 2: Data Preprocessing\n",
    "\n",
    "1. Fill in missing values in the `age and fare` columns with their median values.\n",
    "2. Encode the sex column using one-hot encoding.\n",
    "3. Standardize the fare column using StandardScaler.\n",
    "4. Select the features `(p_class, sex, age, fare)` and the target variable `(survived)` for modeling.\n",
    "5. Split the dataset into training and testing sets with a test size of 30%."
   ]
  },
  {
   "cell_type": "code",
   "execution_count": 30,
   "id": "21fe2d7c-8174-4270-8d14-ac2e76adcd34",
   "metadata": {},
   "outputs": [
    {
     "data": {
      "text/plain": [
       "p_class     0\n",
       "sex         0\n",
       "age         0\n",
       "fare        0\n",
       "survived    0\n",
       "dtype: int64"
      ]
     },
     "execution_count": 30,
     "metadata": {},
     "output_type": "execute_result"
    }
   ],
   "source": [
    "# Step 1: Fill in missing values in the 'age' and 'fare' columns with their median values\n",
    "df.isnull().sum()\n",
    "df['age'].fillna(df['age'].median(),inplace=True)\n",
    "df['fare'].fillna(df['fare'].median(),inplace=True)\n",
    "df.isnull().sum()\n"
   ]
  },
  {
   "cell_type": "code",
   "execution_count": 32,
   "id": "2a015a7f-d05d-4f90-a4f4-102a2fcdd90b",
   "metadata": {},
   "outputs": [
    {
     "data": {
      "text/plain": [
       "array(['male', 'female'], dtype=object)"
      ]
     },
     "execution_count": 32,
     "metadata": {},
     "output_type": "execute_result"
    }
   ],
   "source": [
    "df['sex'].unique()"
   ]
  },
  {
   "cell_type": "code",
   "execution_count": 34,
   "id": "a48f5a8c-f4f0-455a-8d69-0031924269d0",
   "metadata": {},
   "outputs": [
    {
     "data": {
      "text/html": [
       "<div>\n",
       "<style scoped>\n",
       "    .dataframe tbody tr th:only-of-type {\n",
       "        vertical-align: middle;\n",
       "    }\n",
       "\n",
       "    .dataframe tbody tr th {\n",
       "        vertical-align: top;\n",
       "    }\n",
       "\n",
       "    .dataframe thead th {\n",
       "        text-align: right;\n",
       "    }\n",
       "</style>\n",
       "<table border=\"1\" class=\"dataframe\">\n",
       "  <thead>\n",
       "    <tr style=\"text-align: right;\">\n",
       "      <th></th>\n",
       "      <th>p_class</th>\n",
       "      <th>age</th>\n",
       "      <th>fare</th>\n",
       "      <th>survived</th>\n",
       "      <th>sex_male</th>\n",
       "    </tr>\n",
       "  </thead>\n",
       "  <tbody>\n",
       "    <tr>\n",
       "      <th>0</th>\n",
       "      <td>3</td>\n",
       "      <td>22.0</td>\n",
       "      <td>7.2500</td>\n",
       "      <td>0</td>\n",
       "      <td>True</td>\n",
       "    </tr>\n",
       "    <tr>\n",
       "      <th>1</th>\n",
       "      <td>1</td>\n",
       "      <td>38.0</td>\n",
       "      <td>71.2833</td>\n",
       "      <td>1</td>\n",
       "      <td>False</td>\n",
       "    </tr>\n",
       "    <tr>\n",
       "      <th>2</th>\n",
       "      <td>3</td>\n",
       "      <td>26.0</td>\n",
       "      <td>14.4542</td>\n",
       "      <td>1</td>\n",
       "      <td>False</td>\n",
       "    </tr>\n",
       "    <tr>\n",
       "      <th>3</th>\n",
       "      <td>1</td>\n",
       "      <td>35.0</td>\n",
       "      <td>53.1000</td>\n",
       "      <td>1</td>\n",
       "      <td>False</td>\n",
       "    </tr>\n",
       "    <tr>\n",
       "      <th>4</th>\n",
       "      <td>3</td>\n",
       "      <td>35.0</td>\n",
       "      <td>8.0500</td>\n",
       "      <td>0</td>\n",
       "      <td>True</td>\n",
       "    </tr>\n",
       "  </tbody>\n",
       "</table>\n",
       "</div>"
      ],
      "text/plain": [
       "   p_class   age     fare  survived  sex_male\n",
       "0        3  22.0   7.2500         0      True\n",
       "1        1  38.0  71.2833         1     False\n",
       "2        3  26.0  14.4542         1     False\n",
       "3        1  35.0  53.1000         1     False\n",
       "4        3  35.0   8.0500         0      True"
      ]
     },
     "execution_count": 34,
     "metadata": {},
     "output_type": "execute_result"
    }
   ],
   "source": [
    "# Step 2: Encode the 'sex' column using one-hot encoding\n",
    "df_encoded=pd.get_dummies(df,columns=['sex'],drop_first=True)\n",
    "df_encoded.head()"
   ]
  },
  {
   "cell_type": "code",
   "execution_count": 36,
   "id": "ca8f6401-9194-4396-844c-f2bd98bfc30f",
   "metadata": {},
   "outputs": [
    {
     "data": {
      "text/html": [
       "<div>\n",
       "<style scoped>\n",
       "    .dataframe tbody tr th:only-of-type {\n",
       "        vertical-align: middle;\n",
       "    }\n",
       "\n",
       "    .dataframe tbody tr th {\n",
       "        vertical-align: top;\n",
       "    }\n",
       "\n",
       "    .dataframe thead th {\n",
       "        text-align: right;\n",
       "    }\n",
       "</style>\n",
       "<table border=\"1\" class=\"dataframe\">\n",
       "  <thead>\n",
       "    <tr style=\"text-align: right;\">\n",
       "      <th></th>\n",
       "      <th>p_class</th>\n",
       "      <th>age</th>\n",
       "      <th>fare</th>\n",
       "      <th>survived</th>\n",
       "      <th>sex_male</th>\n",
       "    </tr>\n",
       "  </thead>\n",
       "  <tbody>\n",
       "    <tr>\n",
       "      <th>0</th>\n",
       "      <td>3</td>\n",
       "      <td>22.0</td>\n",
       "      <td>-0.500819</td>\n",
       "      <td>0</td>\n",
       "      <td>True</td>\n",
       "    </tr>\n",
       "    <tr>\n",
       "      <th>1</th>\n",
       "      <td>1</td>\n",
       "      <td>38.0</td>\n",
       "      <td>0.788518</td>\n",
       "      <td>1</td>\n",
       "      <td>False</td>\n",
       "    </tr>\n",
       "    <tr>\n",
       "      <th>2</th>\n",
       "      <td>3</td>\n",
       "      <td>26.0</td>\n",
       "      <td>-0.355760</td>\n",
       "      <td>1</td>\n",
       "      <td>False</td>\n",
       "    </tr>\n",
       "    <tr>\n",
       "      <th>3</th>\n",
       "      <td>1</td>\n",
       "      <td>35.0</td>\n",
       "      <td>0.422390</td>\n",
       "      <td>1</td>\n",
       "      <td>False</td>\n",
       "    </tr>\n",
       "    <tr>\n",
       "      <th>4</th>\n",
       "      <td>3</td>\n",
       "      <td>35.0</td>\n",
       "      <td>-0.484711</td>\n",
       "      <td>0</td>\n",
       "      <td>True</td>\n",
       "    </tr>\n",
       "  </tbody>\n",
       "</table>\n",
       "</div>"
      ],
      "text/plain": [
       "   p_class   age      fare  survived  sex_male\n",
       "0        3  22.0 -0.500819         0      True\n",
       "1        1  38.0  0.788518         1     False\n",
       "2        3  26.0 -0.355760         1     False\n",
       "3        1  35.0  0.422390         1     False\n",
       "4        3  35.0 -0.484711         0      True"
      ]
     },
     "execution_count": 36,
     "metadata": {},
     "output_type": "execute_result"
    }
   ],
   "source": [
    "# Step 3: Standardize the 'fare' column using StandardScaler\n",
    "\n",
    "scale=StandardScaler()\n",
    "df_encoded['fare']=scale.fit_transform(df_encoded[['fare']])\n",
    "df_encoded.head()"
   ]
  },
  {
   "cell_type": "code",
   "execution_count": 38,
   "id": "9776e74b-3d2c-40f7-b41b-35a6ac59933e",
   "metadata": {},
   "outputs": [],
   "source": [
    "# Step 4: Select the features and target variable for modeling\n",
    "X=df_encoded.drop('survived',axis=True)\n",
    "y=df_encoded['survived']\n",
    "# Step 5: Split the dataset into training and testing sets with a test size of 30%\n",
    "\n",
    "X_train,X_test,y_train,y_test=train_test_split(X,y,test_size=0.3,random_state=42)"
   ]
  },
  {
   "cell_type": "markdown",
   "id": "b5fcca5a-13f3-4d47-a59f-d19465087c08",
   "metadata": {},
   "source": [
    "### Task 3: Model Training Using Gaussian Naive Bayes\n",
    "\n",
    "1. Initialize and train a `Gaussian Naive Bayes` model using the training data.\n",
    "2. Make predictions on the test set using the trained model.\n",
    "3. Evaluate the model using a classification report and print the report.\n",
    "4. Visualize the confusion matrix for the model."
   ]
  },
  {
   "cell_type": "code",
   "execution_count": 41,
   "id": "de744d68-1193-4939-a5a9-fdeac54a84a6",
   "metadata": {},
   "outputs": [],
   "source": [
    "# Step 1: Initialize and train a Gaussian Naive Bayes model using the training data\n",
    "model=GaussianNB()\n",
    "model.fit(X_train,y_train)\n",
    "\n",
    "# Step 2: Make predictions on the test set using the trained model\n",
    "y_pred=model.predict(X_test)"
   ]
  },
  {
   "cell_type": "code",
   "execution_count": 43,
   "id": "ff0c4579-8bff-4e90-adde-eda3e584c094",
   "metadata": {},
   "outputs": [
    {
     "name": "stdout",
     "output_type": "stream",
     "text": [
      "              precision    recall  f1-score   support\n",
      "\n",
      "           0       0.81      0.80      0.81       157\n",
      "           1       0.73      0.74      0.73       111\n",
      "\n",
      "    accuracy                           0.78       268\n",
      "   macro avg       0.77      0.77      0.77       268\n",
      "weighted avg       0.78      0.78      0.78       268\n",
      "\n"
     ]
    }
   ],
   "source": [
    "# Step 3: Evaluate the model using a classification report and print the report\n",
    "report=classification_report(y_test,y_pred)\n",
    "print(report)"
   ]
  },
  {
   "cell_type": "code",
   "execution_count": 45,
   "id": "9e21f71a-325a-4326-bc18-7e2ca098324b",
   "metadata": {},
   "outputs": [
    {
     "data": {
      "text/plain": [
       "array([0, 1], dtype=int64)"
      ]
     },
     "execution_count": 45,
     "metadata": {},
     "output_type": "execute_result"
    }
   ],
   "source": [
    "df_encoded['survived'].unique()"
   ]
  },
  {
   "cell_type": "code",
   "execution_count": 47,
   "id": "e60a4df5-c6a9-475d-a1a7-a1af3384a378",
   "metadata": {},
   "outputs": [
    {
     "data": {
      "text/plain": [
       "<Axes: >"
      ]
     },
     "execution_count": 47,
     "metadata": {},
     "output_type": "execute_result"
    },
    {
     "data": {
      "image/png": "[encoded data removed]",
      "text/plain": [
       "<Figure size 640x480 with 2 Axes>"
      ]
     },
     "metadata": {},
     "output_type": "display_data"
    }
   ],
   "source": [
    "# Step 4: Visualize the confusion matrix for the model\n",
    "cm=confusion_matrix(y_test,y_pred)\n",
    "cm\n",
    "sns.heatmap(cm,xticklabels=['Not_survived','Survived'],yticklabels=['Not_survived','Survived'],fmt='d',annot=True)"
   ]
  },
  {
   "cell_type": "markdown",
   "id": "b18be6da-524f-444b-8fa3-0f25a502dd40",
   "metadata": {},
   "source": [
    "### model Training with Logistic Regression"
   ]
  },
  {
   "cell_type": "code",
   "execution_count": 78,
   "id": "19009b72-b64b-4255-af73-78dce060dded",
   "metadata": {},
   "outputs": [
    {
     "name": "stdout",
     "output_type": "stream",
     "text": [
      "              precision    recall  f1-score   support\n",
      "\n",
      "           0       0.81      0.85      0.83       157\n",
      "           1       0.77      0.71      0.74       111\n",
      "\n",
      "    accuracy                           0.79       268\n",
      "   macro avg       0.79      0.78      0.79       268\n",
      "weighted avg       0.79      0.79      0.79       268\n",
      "\n"
     ]
    }
   ],
   "source": [
    "model_1=LogisticRegression()\n",
    "model_1.fit(X_train,y_train)\n",
    "y_pred_1=model_1.predict(X_test)\n",
    "report_1=classification_report(y_test,y_pred_1)\n",
    "print(report_1)"
   ]
  },
  {
   "cell_type": "code",
   "execution_count": 89,
   "id": "660396fc-e379-4199-9a8e-82ee0e0b1197",
   "metadata": {},
   "outputs": [
    {
     "data": {
      "text/plain": [
       "<Axes: >"
      ]
     },
     "execution_count": 89,
     "metadata": {},
     "output_type": "execute_result"
    },
    {
     "data": {
      "image/png": "[encoded data removed]",
      "text/plain": [
       "<Figure size 640x480 with 2 Axes>"
      ]
     },
     "metadata": {},
     "output_type": "display_data"
    }
   ],
   "source": [
    "cm_1=confusion_matrix(y_test,y_pred_1)\n",
    "sns.heatmap(cm_1,xticklabels=['Not_survived','Survived'],yticklabels=['Not_survived','Survived'],fmt='d',annot=True)"
   ]
  },
  {
   "cell_type": "markdown",
   "id": "0ca34bc7-0da0-4677-a4b7-e629b5e2f2ce",
   "metadata": {},
   "source": [
    "### Pipeline "
   ]
  },
  {
   "cell_type": "code",
   "execution_count": 85,
   "id": "da557d43-a227-4c1a-9df1-3fd13790f4fc",
   "metadata": {},
   "outputs": [
    {
     "name": "stdout",
     "output_type": "stream",
     "text": [
      "              precision    recall  f1-score   support\n",
      "\n",
      "           0       0.81      0.80      0.81       157\n",
      "           1       0.73      0.74      0.73       111\n",
      "\n",
      "    accuracy                           0.78       268\n",
      "   macro avg       0.77      0.77      0.77       268\n",
      "weighted avg       0.78      0.78      0.78       268\n",
      "\n"
     ]
    }
   ],
   "source": [
    "pipe=Pipeline([\n",
    "    ('scale',StandardScaler()),\n",
    "    ('model',GaussianNB())\n",
    "  ])\n",
    "pipe.fit(X_train,y_train)\n",
    "y_pred_2=pipe.predict(X_test)\n",
    "report_2=classification_report(y_test,y_pred_2)\n",
    "print(report_2)"
   ]
  },
  {
   "cell_type": "code",
   "execution_count": 91,
   "id": "1f857577-1eae-4215-be1a-3d0568d2863b",
   "metadata": {},
   "outputs": [
    {
     "data": {
      "text/plain": [
       "<Axes: >"
      ]
     },
     "execution_count": 91,
     "metadata": {},
     "output_type": "execute_result"
    },
    {
     "data": {
      "image/png": "[encoded data removed]",
      "text/plain": [
       "<Figure size 640x480 with 2 Axes>"
      ]
     },
     "metadata": {},
     "output_type": "display_data"
    }
   ],
   "source": [
    "cm_2=confusion_matrix(y_test,y_pred_2)\n",
    "sns.heatmap(cm_2,xticklabels=['Not_survived','Survived'],yticklabels=['Not_survived','Survived'],fmt='d',annot=True)"
   ]
  },
  {
   "cell_type": "markdown",
   "id": "f35e3857-8768-49b8-933e-3003c01ad66f",
   "metadata": {},
   "source": []
  }
 ],
 "metadata": {
  "kernelspec": {
   "display_name": "Python 3 (ipykernel)",
   "language": "python",
   "name": "python3"
  },
  "language_info": {
   "codemirror_mode": {
    "name": "ipython",
    "version": 3
   },
   "file_extension": ".py",
   "mimetype": "text/x-python",
   "name": "python",
   "nbconvert_exporter": "python",
   "pygments_lexer": "ipython3",
   "version": "3.12.4"
  }
 },
 "nbformat": 4,
 "nbformat_minor": 5
}
