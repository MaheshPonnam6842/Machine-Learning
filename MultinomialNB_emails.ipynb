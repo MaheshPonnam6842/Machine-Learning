{
 "cells": [
  {
   "cell_type": "markdown",
   "id": "88be55a3-037f-4d41-b8ce-bc56a3f4c457",
   "metadata": {},
   "source": [
    "### Naive_bayes Theorem for text using multinomialNB"
   ]
  },
  {
   "cell_type": "code",
   "execution_count": 46,
   "id": "0ad3b487-7c5e-4e2b-92b6-cab94fdc6f0e",
   "metadata": {},
   "outputs": [],
   "source": [
    "import pandas as pd\n",
    "import math as m\n",
    "from matplotlib import pyplot as plt\n",
    "import seaborn as sns \n",
    "from sklearn.linear_model import LogisticRegression\n",
    "from sklearn.model_selection import train_test_split\n",
    "from sklearn.metrics import classification_report,confusion_matrix,accuracy_score\n",
    "from sklearn.svm import SVC\n",
    "from sklearn.svm import SVR\n",
    "from sklearn.pipeline import Pipeline"
   ]
  },
  {
   "cell_type": "code",
   "execution_count": 48,
   "id": "8daf8808-fb58-44ef-8752-864d44595fcf",
   "metadata": {},
   "outputs": [],
   "source": [
    "df=pd.read_csv('spam.csv')"
   ]
  },
  {
   "cell_type": "code",
   "execution_count": 49,
   "id": "c8b98781-1156-4c35-9409-401cd3224755",
   "metadata": {},
   "outputs": [
    {
     "data": {
      "text/html": [
       "<div>\n",
       "<style scoped>\n",
       "    .dataframe tbody tr th:only-of-type {\n",
       "        vertical-align: middle;\n",
       "    }\n",
       "\n",
       "    .dataframe tbody tr th {\n",
       "        vertical-align: top;\n",
       "    }\n",
       "\n",
       "    .dataframe thead th {\n",
       "        text-align: right;\n",
       "    }\n",
       "</style>\n",
       "<table border=\"1\" class=\"dataframe\">\n",
       "  <thead>\n",
       "    <tr style=\"text-align: right;\">\n",
       "      <th></th>\n",
       "      <th>Category</th>\n",
       "      <th>Message</th>\n",
       "    </tr>\n",
       "  </thead>\n",
       "  <tbody>\n",
       "    <tr>\n",
       "      <th>0</th>\n",
       "      <td>ham</td>\n",
       "      <td>Go until jurong point, crazy.. Available only ...</td>\n",
       "    </tr>\n",
       "    <tr>\n",
       "      <th>1</th>\n",
       "      <td>ham</td>\n",
       "      <td>Ok lar... Joking wif u oni...</td>\n",
       "    </tr>\n",
       "    <tr>\n",
       "      <th>2</th>\n",
       "      <td>spam</td>\n",
       "      <td>Free entry in 2 a wkly comp to win FA Cup fina...</td>\n",
       "    </tr>\n",
       "    <tr>\n",
       "      <th>3</th>\n",
       "      <td>ham</td>\n",
       "      <td>U dun say so early hor... U c already then say...</td>\n",
       "    </tr>\n",
       "    <tr>\n",
       "      <th>4</th>\n",
       "      <td>ham</td>\n",
       "      <td>Nah I don't think he goes to usf, he lives aro...</td>\n",
       "    </tr>\n",
       "  </tbody>\n",
       "</table>\n",
       "</div>"
      ],
      "text/plain": [
       "  Category                                            Message\n",
       "0      ham  Go until jurong point, crazy.. Available only ...\n",
       "1      ham                      Ok lar... Joking wif u oni...\n",
       "2     spam  Free entry in 2 a wkly comp to win FA Cup fina...\n",
       "3      ham  U dun say so early hor... U c already then say...\n",
       "4      ham  Nah I don't think he goes to usf, he lives aro..."
      ]
     },
     "execution_count": 49,
     "metadata": {},
     "output_type": "execute_result"
    }
   ],
   "source": [
    "df.head()"
   ]
  },
  {
   "cell_type": "code",
   "execution_count": 50,
   "id": "a5c60194-77c3-4880-916f-733fd408edd0",
   "metadata": {},
   "outputs": [
    {
     "data": {
      "text/plain": [
       "(5572, 2)"
      ]
     },
     "execution_count": 50,
     "metadata": {},
     "output_type": "execute_result"
    }
   ],
   "source": [
    "df.shape"
   ]
  },
  {
   "cell_type": "code",
   "execution_count": 54,
   "id": "fe5a33f3-a52f-46a4-b42a-79aed8541438",
   "metadata": {},
   "outputs": [
    {
     "data": {
      "text/plain": [
       "array(['ham', 'spam'], dtype=object)"
      ]
     },
     "execution_count": 54,
     "metadata": {},
     "output_type": "execute_result"
    }
   ],
   "source": [
    "df['Category'].unique()"
   ]
  },
  {
   "cell_type": "code",
   "execution_count": 56,
   "id": "786072e6-6ae5-44a3-b8bb-55a17862ddbf",
   "metadata": {},
   "outputs": [],
   "source": [
    "df['Category']=df['Category'].apply(lambda x: 'not spam' if x=='ham' else 'spam')"
   ]
  },
  {
   "cell_type": "code",
   "execution_count": 58,
   "id": "2ca39f08-6098-4d9a-9ae6-171802f07e0c",
   "metadata": {},
   "outputs": [
    {
     "data": {
      "text/html": [
       "<div>\n",
       "<style scoped>\n",
       "    .dataframe tbody tr th:only-of-type {\n",
       "        vertical-align: middle;\n",
       "    }\n",
       "\n",
       "    .dataframe tbody tr th {\n",
       "        vertical-align: top;\n",
       "    }\n",
       "\n",
       "    .dataframe thead th {\n",
       "        text-align: right;\n",
       "    }\n",
       "</style>\n",
       "<table border=\"1\" class=\"dataframe\">\n",
       "  <thead>\n",
       "    <tr style=\"text-align: right;\">\n",
       "      <th></th>\n",
       "      <th>Category</th>\n",
       "      <th>Message</th>\n",
       "    </tr>\n",
       "  </thead>\n",
       "  <tbody>\n",
       "    <tr>\n",
       "      <th>0</th>\n",
       "      <td>not spam</td>\n",
       "      <td>Go until jurong point, crazy.. Available only ...</td>\n",
       "    </tr>\n",
       "    <tr>\n",
       "      <th>1</th>\n",
       "      <td>not spam</td>\n",
       "      <td>Ok lar... Joking wif u oni...</td>\n",
       "    </tr>\n",
       "    <tr>\n",
       "      <th>2</th>\n",
       "      <td>spam</td>\n",
       "      <td>Free entry in 2 a wkly comp to win FA Cup fina...</td>\n",
       "    </tr>\n",
       "    <tr>\n",
       "      <th>3</th>\n",
       "      <td>not spam</td>\n",
       "      <td>U dun say so early hor... U c already then say...</td>\n",
       "    </tr>\n",
       "    <tr>\n",
       "      <th>4</th>\n",
       "      <td>not spam</td>\n",
       "      <td>Nah I don't think he goes to usf, he lives aro...</td>\n",
       "    </tr>\n",
       "  </tbody>\n",
       "</table>\n",
       "</div>"
      ],
      "text/plain": [
       "   Category                                            Message\n",
       "0  not spam  Go until jurong point, crazy.. Available only ...\n",
       "1  not spam                      Ok lar... Joking wif u oni...\n",
       "2      spam  Free entry in 2 a wkly comp to win FA Cup fina...\n",
       "3  not spam  U dun say so early hor... U c already then say...\n",
       "4  not spam  Nah I don't think he goes to usf, he lives aro..."
      ]
     },
     "execution_count": 58,
     "metadata": {},
     "output_type": "execute_result"
    }
   ],
   "source": [
    "df.head()"
   ]
  },
  {
   "cell_type": "code",
   "execution_count": 104,
   "id": "0435815b-0c5f-44f8-afe8-582e7ba4b138",
   "metadata": {},
   "outputs": [
    {
     "data": {
      "text/plain": [
       "dtype('O')"
      ]
     },
     "execution_count": 104,
     "metadata": {},
     "output_type": "execute_result"
    }
   ],
   "source": [
    "df['Category'].unique()\n",
    "df['Message'].dtype"
   ]
  },
  {
   "cell_type": "markdown",
   "id": "2ff49b9f-4921-47dc-ac6a-f792bc41895f",
   "metadata": {},
   "source": [
    "### Feature Engineering for message column using countvectorizer featuring technique"
   ]
  },
  {
   "cell_type": "code",
   "execution_count": 74,
   "id": "558da0d6-6044-446b-a107-7a269efd1775",
   "metadata": {},
   "outputs": [],
   "source": [
    "from sklearn.feature_extraction.text import CountVectorizer\n"
   ]
  },
  {
   "cell_type": "code",
   "execution_count": 125,
   "id": "e879f6c3-3a78-4531-a6fd-813e0c8c18bf",
   "metadata": {},
   "outputs": [
    {
     "data": {
      "text/plain": [
       "1978    Reply to win £100 weekly! Where will the 2006 ...\n",
       "Name: Message, dtype: object"
      ]
     },
     "execution_count": 125,
     "metadata": {},
     "output_type": "execute_result"
    }
   ],
   "source": [
    "X=df['Message']\n",
    "y=df['Category']\n",
    "X_train,X_test,y_train,y_test=train_test_split(X,y,test_size=0.2,random_state=42)\n",
    "X_train[:1]"
   ]
  },
  {
   "cell_type": "code",
   "execution_count": 127,
   "id": "d15d97f0-5499-4cac-864c-98fe36a2adf6",
   "metadata": {},
   "outputs": [],
   "source": [
    "V=CountVectorizer()"
   ]
  },
  {
   "cell_type": "code",
   "execution_count": 129,
   "id": "c8aec363-2bc6-44cd-b725-7d035532518e",
   "metadata": {},
   "outputs": [],
   "source": [
    "X_train_featured=V.fit_transform(X_train)\n",
    "X_test_featured=V.transform(X_test)"
   ]
  },
  {
   "cell_type": "code",
   "execution_count": 134,
   "id": "6d14de79-911d-42b0-a445-3f967d5629d6",
   "metadata": {},
   "outputs": [
    {
     "data": {
      "text/plain": [
       "7701"
      ]
     },
     "execution_count": 134,
     "metadata": {},
     "output_type": "execute_result"
    }
   ],
   "source": [
    "len(X_train_featured.toarray()[1])"
   ]
  },
  {
   "cell_type": "markdown",
   "id": "ce9792c5-a347-49d4-a50a-25798d855471",
   "metadata": {},
   "source": [
    "### Model Evaluation and Training : MultinomialNB"
   ]
  },
  {
   "cell_type": "code",
   "execution_count": 152,
   "id": "56a0ef66-6ca5-4b7c-b68c-2c98cd84115c",
   "metadata": {},
   "outputs": [],
   "source": [
    "from sklearn.naive_bayes import MultinomialNB"
   ]
  },
  {
   "cell_type": "code",
   "execution_count": 154,
   "id": "c676b3c6-12ad-44e9-83ab-a5e900d37ca1",
   "metadata": {},
   "outputs": [
    {
     "name": "stdout",
     "output_type": "stream",
     "text": [
      "              precision    recall  f1-score   support\n",
      "\n",
      "    not spam       0.99      1.00      1.00       966\n",
      "        spam       1.00      0.94      0.97       149\n",
      "\n",
      "    accuracy                           0.99      1115\n",
      "   macro avg       1.00      0.97      0.98      1115\n",
      "weighted avg       0.99      0.99      0.99      1115\n",
      "\n"
     ]
    },
    {
     "data": {
      "text/plain": [
       "array([[966,   0],\n",
       "       [  9, 140]], dtype=int64)"
      ]
     },
     "execution_count": 154,
     "metadata": {},
     "output_type": "execute_result"
    }
   ],
   "source": [
    "model=MultinomialNB()\n",
    "model.fit(X_train_featured,y_train)\n",
    "y_pred=model.predict(X_test_featured)\n",
    "report=classification_report(y_test,y_pred)\n",
    "cm=confusion_matrix(y_test,y_pred)\n",
    "print(report)\n",
    "cm"
   ]
  },
  {
   "cell_type": "code",
   "execution_count": 158,
   "id": "2b9f8a80-7d61-45c3-8d83-bca09b3c1518",
   "metadata": {},
   "outputs": [
    {
     "data": {
      "text/plain": [
       "array(['not spam', 'spam'], dtype=object)"
      ]
     },
     "execution_count": 158,
     "metadata": {},
     "output_type": "execute_result"
    }
   ],
   "source": [
    "df['Category'].unique()"
   ]
  },
  {
   "cell_type": "code",
   "execution_count": 160,
   "id": "a7f24940-9e3f-438c-b97b-f0815a9c5cb5",
   "metadata": {},
   "outputs": [
    {
     "data": {
      "image/png": "[encoded data removed]",
      "text/plain": [
       "<Figure size 640x480 with 2 Axes>"
      ]
     },
     "metadata": {},
     "output_type": "display_data"
    }
   ],
   "source": [
    "sns.heatmap(cm,xticklabels=df['Category'].unique(),yticklabels=df['Category'].unique(),annot=True,fmt='d')\n",
    "plt.xlabel('Predict')\n",
    "plt.ylabel('Truth')\n",
    "plt.show()"
   ]
  },
  {
   "cell_type": "markdown",
   "id": "86bb09b1-5762-449f-b6b9-30d4a3abaeea",
   "metadata": {},
   "source": [
    "### Testing more emails"
   ]
  },
  {
   "cell_type": "code",
   "execution_count": 169,
   "id": "dfef7b8d-ad8b-4f47-8d23-2f529d2dde4b",
   "metadata": {},
   "outputs": [
    {
     "data": {
      "text/plain": [
       "array(['spam', 'not spam'], dtype='<U8')"
      ]
     },
     "execution_count": 169,
     "metadata": {},
     "output_type": "execute_result"
    }
   ],
   "source": [
    "emails=['hurry up!,20% discount, exlusive offer',\n",
    "       'Hey Rohan, How are you']\n",
    "email_featured=V.transform(emails)\n",
    "model.predict(email_featured)"
   ]
  },
  {
   "cell_type": "markdown",
   "id": "b2d6b994-98e7-450c-959c-3ee20c25cff7",
   "metadata": {},
   "source": []
  }
 ],
 "metadata": {
  "kernelspec": {
   "display_name": "Python 3 (ipykernel)",
   "language": "python",
   "name": "python3"
  },
  "language_info": {
   "codemirror_mode": {
    "name": "ipython",
    "version": 3
   },
   "file_extension": ".py",
   "mimetype": "text/x-python",
   "name": "python",
   "nbconvert_exporter": "python",
   "pygments_lexer": "ipython3",
   "version": "3.12.4"
  }
 },
 "nbformat": 4,
 "nbformat_minor": 5
}
