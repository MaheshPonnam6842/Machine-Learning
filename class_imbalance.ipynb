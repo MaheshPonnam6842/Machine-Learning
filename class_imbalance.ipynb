{
 "cells": [
  {
   "cell_type": "code",
   "execution_count": 145,
   "id": "6181b69d-1a85-4c69-9eab-13ff2ef92465",
   "metadata": {},
   "outputs": [],
   "source": [
    "import pandas as pd\n",
    "import math as m\n",
    "from matplotlib import pyplot as plt\n",
    "import seaborn as sns \n",
    "from sklearn.linear_model import LogisticRegression\n",
    "from sklearn.model_selection import train_test_split\n",
    "from sklearn.metrics import classification_report,confusion_matrix,accuracy_score\n",
    "from sklearn.svm import SVC\n",
    "from sklearn.svm import SVR\n",
    "from sklearn.pipeline import Pipeline\n",
    "from sklearn.naive_bayes import GaussianNB,MultinomialNB\n",
    "from sklearn.preprocessing import StandardScaler,MinMaxScaler\n",
    "from sklearn.tree import DecisionTreeClassifier\n",
    "from sklearn.tree import export_text\n",
    "from imblearn.under_sampling import RandomUnderSampler\n",
    "from imblearn.over_sampling import SMOTE\n",
    "from imblearn.combine import SMOTETomek"
   ]
  },
  {
   "cell_type": "code",
   "execution_count": 147,
   "id": "58e82496-b0cc-4c6c-9f35-794d65ebd4ed",
   "metadata": {},
   "outputs": [
    {
     "name": "stdout",
     "output_type": "stream",
     "text": [
      "(3150, 14)\n"
     ]
    },
    {
     "data": {
      "text/html": [
       "<div>\n",
       "<style scoped>\n",
       "    .dataframe tbody tr th:only-of-type {\n",
       "        vertical-align: middle;\n",
       "    }\n",
       "\n",
       "    .dataframe tbody tr th {\n",
       "        vertical-align: top;\n",
       "    }\n",
       "\n",
       "    .dataframe thead th {\n",
       "        text-align: right;\n",
       "    }\n",
       "</style>\n",
       "<table border=\"1\" class=\"dataframe\">\n",
       "  <thead>\n",
       "    <tr style=\"text-align: right;\">\n",
       "      <th></th>\n",
       "      <th>Call  Failure</th>\n",
       "      <th>Complains</th>\n",
       "      <th>Subscription  Length</th>\n",
       "      <th>Charge  Amount</th>\n",
       "      <th>Seconds of Use</th>\n",
       "      <th>Frequency of use</th>\n",
       "      <th>Frequency of SMS</th>\n",
       "      <th>Distinct Called Numbers</th>\n",
       "      <th>Age Group</th>\n",
       "      <th>Tariff Plan</th>\n",
       "      <th>Status</th>\n",
       "      <th>Age</th>\n",
       "      <th>Customer Value</th>\n",
       "      <th>Churn</th>\n",
       "    </tr>\n",
       "  </thead>\n",
       "  <tbody>\n",
       "    <tr>\n",
       "      <th>0</th>\n",
       "      <td>8</td>\n",
       "      <td>0</td>\n",
       "      <td>38</td>\n",
       "      <td>0</td>\n",
       "      <td>4370</td>\n",
       "      <td>71</td>\n",
       "      <td>5</td>\n",
       "      <td>17</td>\n",
       "      <td>3</td>\n",
       "      <td>1</td>\n",
       "      <td>1</td>\n",
       "      <td>30</td>\n",
       "      <td>197.640</td>\n",
       "      <td>0</td>\n",
       "    </tr>\n",
       "    <tr>\n",
       "      <th>1</th>\n",
       "      <td>0</td>\n",
       "      <td>0</td>\n",
       "      <td>39</td>\n",
       "      <td>0</td>\n",
       "      <td>318</td>\n",
       "      <td>5</td>\n",
       "      <td>7</td>\n",
       "      <td>4</td>\n",
       "      <td>2</td>\n",
       "      <td>1</td>\n",
       "      <td>2</td>\n",
       "      <td>25</td>\n",
       "      <td>46.035</td>\n",
       "      <td>0</td>\n",
       "    </tr>\n",
       "    <tr>\n",
       "      <th>2</th>\n",
       "      <td>10</td>\n",
       "      <td>0</td>\n",
       "      <td>37</td>\n",
       "      <td>0</td>\n",
       "      <td>2453</td>\n",
       "      <td>60</td>\n",
       "      <td>359</td>\n",
       "      <td>24</td>\n",
       "      <td>3</td>\n",
       "      <td>1</td>\n",
       "      <td>1</td>\n",
       "      <td>30</td>\n",
       "      <td>1536.520</td>\n",
       "      <td>0</td>\n",
       "    </tr>\n",
       "    <tr>\n",
       "      <th>3</th>\n",
       "      <td>10</td>\n",
       "      <td>0</td>\n",
       "      <td>38</td>\n",
       "      <td>0</td>\n",
       "      <td>4198</td>\n",
       "      <td>66</td>\n",
       "      <td>1</td>\n",
       "      <td>35</td>\n",
       "      <td>1</td>\n",
       "      <td>1</td>\n",
       "      <td>1</td>\n",
       "      <td>15</td>\n",
       "      <td>240.020</td>\n",
       "      <td>0</td>\n",
       "    </tr>\n",
       "    <tr>\n",
       "      <th>4</th>\n",
       "      <td>3</td>\n",
       "      <td>0</td>\n",
       "      <td>38</td>\n",
       "      <td>0</td>\n",
       "      <td>2393</td>\n",
       "      <td>58</td>\n",
       "      <td>2</td>\n",
       "      <td>33</td>\n",
       "      <td>1</td>\n",
       "      <td>1</td>\n",
       "      <td>1</td>\n",
       "      <td>15</td>\n",
       "      <td>145.805</td>\n",
       "      <td>0</td>\n",
       "    </tr>\n",
       "  </tbody>\n",
       "</table>\n",
       "</div>"
      ],
      "text/plain": [
       "   Call  Failure  Complains  Subscription  Length  Charge  Amount  \\\n",
       "0              8          0                    38               0   \n",
       "1              0          0                    39               0   \n",
       "2             10          0                    37               0   \n",
       "3             10          0                    38               0   \n",
       "4              3          0                    38               0   \n",
       "\n",
       "   Seconds of Use  Frequency of use  Frequency of SMS  \\\n",
       "0            4370                71                 5   \n",
       "1             318                 5                 7   \n",
       "2            2453                60               359   \n",
       "3            4198                66                 1   \n",
       "4            2393                58                 2   \n",
       "\n",
       "   Distinct Called Numbers  Age Group  Tariff Plan  Status  Age  \\\n",
       "0                       17          3            1       1   30   \n",
       "1                        4          2            1       2   25   \n",
       "2                       24          3            1       1   30   \n",
       "3                       35          1            1       1   15   \n",
       "4                       33          1            1       1   15   \n",
       "\n",
       "   Customer Value  Churn  \n",
       "0         197.640      0  \n",
       "1          46.035      0  \n",
       "2        1536.520      0  \n",
       "3         240.020      0  \n",
       "4         145.805      0  "
      ]
     },
     "execution_count": 147,
     "metadata": {},
     "output_type": "execute_result"
    }
   ],
   "source": [
    "df=pd.read_csv('churn.csv')\n",
    "print(df.shape)\n",
    "df.head()\n"
   ]
  },
  {
   "cell_type": "code",
   "execution_count": 149,
   "id": "66672a1a-845a-4ffd-a76c-80537950e72d",
   "metadata": {},
   "outputs": [
    {
     "data": {
      "text/plain": [
       "Churn\n",
       "0    2655\n",
       "1     495\n",
       "Name: count, dtype: int64"
      ]
     },
     "execution_count": 149,
     "metadata": {},
     "output_type": "execute_result"
    }
   ],
   "source": [
    "df['Churn'].value_counts()"
   ]
  },
  {
   "cell_type": "code",
   "execution_count": 150,
   "id": "d00d9ad6-6107-4e30-ac3b-0f2261a55809",
   "metadata": {},
   "outputs": [
    {
     "data": {
      "text/plain": [
       "<Axes: xlabel='Churn'>"
      ]
     },
     "execution_count": 150,
     "metadata": {},
     "output_type": "execute_result"
    },
    {
     "data": {
      "image/png": "[encoded data removed]",
      "text/plain": [
       "<Figure size 640x480 with 1 Axes>"
      ]
     },
     "metadata": {},
     "output_type": "display_data"
    }
   ],
   "source": [
    "df['Churn'].value_counts().plot(kind='bar')"
   ]
  },
  {
   "cell_type": "markdown",
   "id": "baa851bf-b895-45fa-9430-a1c31b21b36c",
   "metadata": {},
   "source": [
    "### Data Cleaning"
   ]
  },
  {
   "cell_type": "code",
   "execution_count": 154,
   "id": "40eec1da-1dab-4de9-85f7-c4b7a1f7d910",
   "metadata": {},
   "outputs": [
    {
     "data": {
      "text/plain": [
       "Call  Failure              0\n",
       "Complains                  0\n",
       "Subscription  Length       0\n",
       "Charge  Amount             0\n",
       "Seconds of Use             0\n",
       "Frequency of use           0\n",
       "Frequency of SMS           0\n",
       "Distinct Called Numbers    0\n",
       "Age Group                  0\n",
       "Tariff Plan                0\n",
       "Status                     0\n",
       "Age                        0\n",
       "Customer Value             0\n",
       "Churn                      0\n",
       "dtype: int64"
      ]
     },
     "execution_count": 154,
     "metadata": {},
     "output_type": "execute_result"
    }
   ],
   "source": [
    "df.isnull().sum()"
   ]
  },
  {
   "cell_type": "markdown",
   "id": "9ecbcc75-0a47-473f-a389-4e96d6809c50",
   "metadata": {},
   "source": [
    "### Scaling"
   ]
  },
  {
   "cell_type": "code",
   "execution_count": 156,
   "id": "af4a547d-9b03-44ca-8f15-4c83de2a4838",
   "metadata": {},
   "outputs": [],
   "source": [
    "scale=StandardScaler()\n",
    "df[['Seconds of Use','Distinct Called Numbers','Customer Value','Age','Frequency of use','Frequency of SMS']]=scale.fit_transform(df[['Seconds of Use','Distinct Called Numbers','Customer Value','Age','Frequency of use','Frequency of SMS']])"
   ]
  },
  {
   "cell_type": "code",
   "execution_count": 158,
   "id": "0ee78bed-f14c-4d7c-b62e-f3636139f90c",
   "metadata": {},
   "outputs": [
    {
     "data": {
      "text/html": [
       "<div>\n",
       "<style scoped>\n",
       "    .dataframe tbody tr th:only-of-type {\n",
       "        vertical-align: middle;\n",
       "    }\n",
       "\n",
       "    .dataframe tbody tr th {\n",
       "        vertical-align: top;\n",
       "    }\n",
       "\n",
       "    .dataframe thead th {\n",
       "        text-align: right;\n",
       "    }\n",
       "</style>\n",
       "<table border=\"1\" class=\"dataframe\">\n",
       "  <thead>\n",
       "    <tr style=\"text-align: right;\">\n",
       "      <th></th>\n",
       "      <th>Call  Failure</th>\n",
       "      <th>Complains</th>\n",
       "      <th>Subscription  Length</th>\n",
       "      <th>Charge  Amount</th>\n",
       "      <th>Seconds of Use</th>\n",
       "      <th>Frequency of use</th>\n",
       "      <th>Frequency of SMS</th>\n",
       "      <th>Distinct Called Numbers</th>\n",
       "      <th>Age Group</th>\n",
       "      <th>Tariff Plan</th>\n",
       "      <th>Status</th>\n",
       "      <th>Age</th>\n",
       "      <th>Customer Value</th>\n",
       "      <th>Churn</th>\n",
       "    </tr>\n",
       "  </thead>\n",
       "  <tbody>\n",
       "    <tr>\n",
       "      <th>0</th>\n",
       "      <td>8</td>\n",
       "      <td>0</td>\n",
       "      <td>38</td>\n",
       "      <td>0</td>\n",
       "      <td>-0.024411</td>\n",
       "      <td>0.026816</td>\n",
       "      <td>-0.607513</td>\n",
       "      <td>-0.378158</td>\n",
       "      <td>3</td>\n",
       "      <td>1</td>\n",
       "      <td>1</td>\n",
       "      <td>-0.113074</td>\n",
       "      <td>-0.528759</td>\n",
       "      <td>0</td>\n",
       "    </tr>\n",
       "    <tr>\n",
       "      <th>1</th>\n",
       "      <td>0</td>\n",
       "      <td>0</td>\n",
       "      <td>39</td>\n",
       "      <td>0</td>\n",
       "      <td>-0.989807</td>\n",
       "      <td>-1.122926</td>\n",
       "      <td>-0.589691</td>\n",
       "      <td>-1.133331</td>\n",
       "      <td>2</td>\n",
       "      <td>1</td>\n",
       "      <td>2</td>\n",
       "      <td>-0.679346</td>\n",
       "      <td>-0.822036</td>\n",
       "      <td>0</td>\n",
       "    </tr>\n",
       "    <tr>\n",
       "      <th>2</th>\n",
       "      <td>10</td>\n",
       "      <td>0</td>\n",
       "      <td>37</td>\n",
       "      <td>0</td>\n",
       "      <td>-0.481140</td>\n",
       "      <td>-0.164807</td>\n",
       "      <td>2.547012</td>\n",
       "      <td>0.028473</td>\n",
       "      <td>3</td>\n",
       "      <td>1</td>\n",
       "      <td>1</td>\n",
       "      <td>-0.113074</td>\n",
       "      <td>2.061285</td>\n",
       "      <td>0</td>\n",
       "    </tr>\n",
       "    <tr>\n",
       "      <th>3</th>\n",
       "      <td>10</td>\n",
       "      <td>0</td>\n",
       "      <td>38</td>\n",
       "      <td>0</td>\n",
       "      <td>-0.065390</td>\n",
       "      <td>-0.060285</td>\n",
       "      <td>-0.643157</td>\n",
       "      <td>0.667466</td>\n",
       "      <td>1</td>\n",
       "      <td>1</td>\n",
       "      <td>1</td>\n",
       "      <td>-1.811888</td>\n",
       "      <td>-0.446775</td>\n",
       "      <td>0</td>\n",
       "    </tr>\n",
       "    <tr>\n",
       "      <th>4</th>\n",
       "      <td>3</td>\n",
       "      <td>0</td>\n",
       "      <td>38</td>\n",
       "      <td>0</td>\n",
       "      <td>-0.495435</td>\n",
       "      <td>-0.199648</td>\n",
       "      <td>-0.634246</td>\n",
       "      <td>0.551285</td>\n",
       "      <td>1</td>\n",
       "      <td>1</td>\n",
       "      <td>1</td>\n",
       "      <td>-1.811888</td>\n",
       "      <td>-0.629033</td>\n",
       "      <td>0</td>\n",
       "    </tr>\n",
       "  </tbody>\n",
       "</table>\n",
       "</div>"
      ],
      "text/plain": [
       "   Call  Failure  Complains  Subscription  Length  Charge  Amount  \\\n",
       "0              8          0                    38               0   \n",
       "1              0          0                    39               0   \n",
       "2             10          0                    37               0   \n",
       "3             10          0                    38               0   \n",
       "4              3          0                    38               0   \n",
       "\n",
       "   Seconds of Use  Frequency of use  Frequency of SMS  \\\n",
       "0       -0.024411          0.026816         -0.607513   \n",
       "1       -0.989807         -1.122926         -0.589691   \n",
       "2       -0.481140         -0.164807          2.547012   \n",
       "3       -0.065390         -0.060285         -0.643157   \n",
       "4       -0.495435         -0.199648         -0.634246   \n",
       "\n",
       "   Distinct Called Numbers  Age Group  Tariff Plan  Status       Age  \\\n",
       "0                -0.378158          3            1       1 -0.113074   \n",
       "1                -1.133331          2            1       2 -0.679346   \n",
       "2                 0.028473          3            1       1 -0.113074   \n",
       "3                 0.667466          1            1       1 -1.811888   \n",
       "4                 0.551285          1            1       1 -1.811888   \n",
       "\n",
       "   Customer Value  Churn  \n",
       "0       -0.528759      0  \n",
       "1       -0.822036      0  \n",
       "2        2.061285      0  \n",
       "3       -0.446775      0  \n",
       "4       -0.629033      0  "
      ]
     },
     "execution_count": 158,
     "metadata": {},
     "output_type": "execute_result"
    }
   ],
   "source": [
    "df.head()"
   ]
  },
  {
   "cell_type": "code",
   "execution_count": 160,
   "id": "39dc3423-cb3f-4c97-8590-bf814bba2575",
   "metadata": {},
   "outputs": [
    {
     "data": {
      "text/plain": [
       "Churn\n",
       "0    2655\n",
       "1     495\n",
       "Name: count, dtype: int64"
      ]
     },
     "execution_count": 160,
     "metadata": {},
     "output_type": "execute_result"
    }
   ],
   "source": [
    "df['Churn'].value_counts()"
   ]
  },
  {
   "cell_type": "code",
   "execution_count": 161,
   "id": "41bd8aa4-eff5-4543-a901-59eea02b7706",
   "metadata": {},
   "outputs": [],
   "source": [
    "### We can clearly see class Imbalance"
   ]
  },
  {
   "cell_type": "markdown",
   "id": "cb5f2a93-80e3-45cf-96f9-b690413321a8",
   "metadata": {},
   "source": [
    "### Training with logistic Regression"
   ]
  },
  {
   "cell_type": "code",
   "execution_count": 165,
   "id": "8a1b32a2-1a4b-4e9c-8563-f9d9509729bb",
   "metadata": {},
   "outputs": [],
   "source": [
    "X=df.drop('Churn',axis=1)\n",
    "y=df['Churn']\n",
    "X_train,X_test,y_train,y_test=train_test_split(X,y,test_size=0.3,random_state=42)"
   ]
  },
  {
   "cell_type": "code",
   "execution_count": 167,
   "id": "529de085-9aea-447c-b9c8-3cb4a789ffad",
   "metadata": {},
   "outputs": [
    {
     "name": "stdout",
     "output_type": "stream",
     "text": [
      "              precision    recall  f1-score   support\n",
      "\n",
      "           0       0.89      0.97      0.93       783\n",
      "           1       0.77      0.43      0.55       162\n",
      "\n",
      "    accuracy                           0.88       945\n",
      "   macro avg       0.83      0.70      0.74       945\n",
      "weighted avg       0.87      0.88      0.86       945\n",
      "\n"
     ]
    },
    {
     "data": {
      "text/plain": [
       "array([[762,  21],\n",
       "       [ 93,  69]], dtype=int64)"
      ]
     },
     "execution_count": 167,
     "metadata": {},
     "output_type": "execute_result"
    }
   ],
   "source": [
    "log_model=LogisticRegression(max_iter=1000)\n",
    "log_model.fit(X_train,y_train)\n",
    "log_pred=log_model.predict(X_test)\n",
    "log_report=classification_report(y_test,log_pred)\n",
    "log_cm=confusion_matrix(y_test,log_pred)\n",
    "print(log_report)\n",
    "log_cm"
   ]
  },
  {
   "cell_type": "code",
   "execution_count": 168,
   "id": "988cf327-47ce-4f81-8f87-17f0a1048420",
   "metadata": {},
   "outputs": [],
   "source": [
    "### Recall is too low , reason for thisn is class imbalance"
   ]
  },
  {
   "cell_type": "markdown",
   "id": "c3ce93f9-3703-4383-aeaa-be515ee11fd3",
   "metadata": {},
   "source": [
    "### Training with Class imbalance trechniques"
   ]
  },
  {
   "cell_type": "markdown",
   "id": "041da045-ecb2-4d7a-a2ef-1ae99f0269b2",
   "metadata": {},
   "source": [
    "### Under Sampling MAjority class"
   ]
  },
  {
   "cell_type": "code",
   "execution_count": 172,
   "id": "7fc75480-2b7f-4df8-a076-33c782be28dc",
   "metadata": {},
   "outputs": [],
   "source": [
    "from imblearn.under_sampling import RandomUnderSampler"
   ]
  },
  {
   "cell_type": "code",
   "execution_count": 173,
   "id": "4bb1fb3b-018d-43de-a653-9f90e9e49b09",
   "metadata": {},
   "outputs": [],
   "source": [
    "rus=RandomUnderSampler(random_state=42)"
   ]
  },
  {
   "cell_type": "code",
   "execution_count": 174,
   "id": "b0d4e6e3-a2d0-4a22-95d2-d91c1ac24b18",
   "metadata": {},
   "outputs": [],
   "source": [
    "### We dont have to touch our test dataset ,because we want test data to be completely new so we apply sampling on only train dataset"
   ]
  },
  {
   "cell_type": "code",
   "execution_count": 176,
   "id": "6a20e4ef-7354-4d3d-abcb-10d84cc4f3c1",
   "metadata": {},
   "outputs": [],
   "source": [
    "X_train_rus,y_train_rus=rus.fit_resample(X_train,y_train)"
   ]
  },
  {
   "cell_type": "code",
   "execution_count": 178,
   "id": "ac9a9433-2419-405f-bc31-9079f7538575",
   "metadata": {},
   "outputs": [
    {
     "data": {
      "text/html": [
       "<div>\n",
       "<style scoped>\n",
       "    .dataframe tbody tr th:only-of-type {\n",
       "        vertical-align: middle;\n",
       "    }\n",
       "\n",
       "    .dataframe tbody tr th {\n",
       "        vertical-align: top;\n",
       "    }\n",
       "\n",
       "    .dataframe thead th {\n",
       "        text-align: right;\n",
       "    }\n",
       "</style>\n",
       "<table border=\"1\" class=\"dataframe\">\n",
       "  <thead>\n",
       "    <tr style=\"text-align: right;\">\n",
       "      <th></th>\n",
       "      <th>Call  Failure</th>\n",
       "      <th>Complains</th>\n",
       "      <th>Subscription  Length</th>\n",
       "      <th>Charge  Amount</th>\n",
       "      <th>Seconds of Use</th>\n",
       "      <th>Frequency of use</th>\n",
       "      <th>Frequency of SMS</th>\n",
       "      <th>Distinct Called Numbers</th>\n",
       "      <th>Age Group</th>\n",
       "      <th>Tariff Plan</th>\n",
       "      <th>Status</th>\n",
       "      <th>Age</th>\n",
       "      <th>Customer Value</th>\n",
       "    </tr>\n",
       "  </thead>\n",
       "  <tbody>\n",
       "    <tr>\n",
       "      <th>648</th>\n",
       "      <td>2</td>\n",
       "      <td>0</td>\n",
       "      <td>8</td>\n",
       "      <td>0</td>\n",
       "      <td>-0.047045</td>\n",
       "      <td>-0.617736</td>\n",
       "      <td>0.978661</td>\n",
       "      <td>-1.017150</td>\n",
       "      <td>3</td>\n",
       "      <td>1</td>\n",
       "      <td>1</td>\n",
       "      <td>-0.113074</td>\n",
       "      <td>0.838381</td>\n",
       "    </tr>\n",
       "    <tr>\n",
       "      <th>2757</th>\n",
       "      <td>20</td>\n",
       "      <td>0</td>\n",
       "      <td>39</td>\n",
       "      <td>3</td>\n",
       "      <td>1.224028</td>\n",
       "      <td>1.019775</td>\n",
       "      <td>0.773706</td>\n",
       "      <td>1.422638</td>\n",
       "      <td>3</td>\n",
       "      <td>1</td>\n",
       "      <td>1</td>\n",
       "      <td>-0.113074</td>\n",
       "      <td>1.080501</td>\n",
       "    </tr>\n",
       "    <tr>\n",
       "      <th>2070</th>\n",
       "      <td>2</td>\n",
       "      <td>0</td>\n",
       "      <td>35</td>\n",
       "      <td>0</td>\n",
       "      <td>1.593318</td>\n",
       "      <td>1.368182</td>\n",
       "      <td>-0.616424</td>\n",
       "      <td>1.248368</td>\n",
       "      <td>3</td>\n",
       "      <td>1</td>\n",
       "      <td>1</td>\n",
       "      <td>-0.113074</td>\n",
       "      <td>-0.005132</td>\n",
       "    </tr>\n",
       "    <tr>\n",
       "      <th>2019</th>\n",
       "      <td>0</td>\n",
       "      <td>0</td>\n",
       "      <td>35</td>\n",
       "      <td>0</td>\n",
       "      <td>0.650556</td>\n",
       "      <td>0.897833</td>\n",
       "      <td>2.707412</td>\n",
       "      <td>1.016007</td>\n",
       "      <td>2</td>\n",
       "      <td>1</td>\n",
       "      <td>1</td>\n",
       "      <td>-0.679346</td>\n",
       "      <td>3.008332</td>\n",
       "    </tr>\n",
       "    <tr>\n",
       "      <th>2129</th>\n",
       "      <td>6</td>\n",
       "      <td>0</td>\n",
       "      <td>38</td>\n",
       "      <td>1</td>\n",
       "      <td>-0.595500</td>\n",
       "      <td>-0.669997</td>\n",
       "      <td>-0.589691</td>\n",
       "      <td>-0.900970</td>\n",
       "      <td>4</td>\n",
       "      <td>1</td>\n",
       "      <td>1</td>\n",
       "      <td>1.585739</td>\n",
       "      <td>-0.780319</td>\n",
       "    </tr>\n",
       "  </tbody>\n",
       "</table>\n",
       "</div>"
      ],
      "text/plain": [
       "      Call  Failure  Complains  Subscription  Length  Charge  Amount  \\\n",
       "648               2          0                     8               0   \n",
       "2757             20          0                    39               3   \n",
       "2070              2          0                    35               0   \n",
       "2019              0          0                    35               0   \n",
       "2129              6          0                    38               1   \n",
       "\n",
       "      Seconds of Use  Frequency of use  Frequency of SMS  \\\n",
       "648        -0.047045         -0.617736          0.978661   \n",
       "2757        1.224028          1.019775          0.773706   \n",
       "2070        1.593318          1.368182         -0.616424   \n",
       "2019        0.650556          0.897833          2.707412   \n",
       "2129       -0.595500         -0.669997         -0.589691   \n",
       "\n",
       "      Distinct Called Numbers  Age Group  Tariff Plan  Status       Age  \\\n",
       "648                 -1.017150          3            1       1 -0.113074   \n",
       "2757                 1.422638          3            1       1 -0.113074   \n",
       "2070                 1.248368          3            1       1 -0.113074   \n",
       "2019                 1.016007          2            1       1 -0.679346   \n",
       "2129                -0.900970          4            1       1  1.585739   \n",
       "\n",
       "      Customer Value  \n",
       "648         0.838381  \n",
       "2757        1.080501  \n",
       "2070       -0.005132  \n",
       "2019        3.008332  \n",
       "2129       -0.780319  "
      ]
     },
     "execution_count": 178,
     "metadata": {},
     "output_type": "execute_result"
    }
   ],
   "source": [
    "X_train_rus.head()"
   ]
  },
  {
   "cell_type": "code",
   "execution_count": 183,
   "id": "8e4a0729-1484-4d6d-b62d-eb67e63da4bf",
   "metadata": {},
   "outputs": [
    {
     "data": {
      "text/plain": [
       "Churn\n",
       "0    333\n",
       "1    333\n",
       "Name: count, dtype: int64"
      ]
     },
     "execution_count": 183,
     "metadata": {},
     "output_type": "execute_result"
    }
   ],
   "source": [
    "y_train_rus.value_counts()"
   ]
  },
  {
   "cell_type": "code",
   "execution_count": 184,
   "id": "d14e5e0f-c35b-404e-a456-1b84a5bdceff",
   "metadata": {},
   "outputs": [
    {
     "data": {
      "text/plain": [
       "<Axes: xlabel='Churn'>"
      ]
     },
     "execution_count": 184,
     "metadata": {},
     "output_type": "execute_result"
    },
    {
     "data": {
      "image/png": "[encoded data removed]",
      "text/plain": [
       "<Figure size 640x480 with 1 Axes>"
      ]
     },
     "metadata": {},
     "output_type": "display_data"
    }
   ],
   "source": [
    "y_train_rus.value_counts().plot(kind='bar')"
   ]
  },
  {
   "cell_type": "code",
   "execution_count": 209,
   "id": "0d7384fb-acfd-4d1e-b18c-cbdd4e3a8a7d",
   "metadata": {},
   "outputs": [
    {
     "name": "stdout",
     "output_type": "stream",
     "text": [
      "              precision    recall  f1-score   support\n",
      "\n",
      "           0       0.96      0.83      0.89       783\n",
      "           1       0.50      0.85      0.63       162\n",
      "\n",
      "    accuracy                           0.83       945\n",
      "   macro avg       0.73      0.84      0.76       945\n",
      "weighted avg       0.88      0.83      0.84       945\n",
      "\n"
     ]
    },
    {
     "data": {
      "text/plain": [
       "array([[646, 137],\n",
       "       [ 25, 137]], dtype=int64)"
      ]
     },
     "execution_count": 209,
     "metadata": {},
     "output_type": "execute_result"
    }
   ],
   "source": [
    "log_model=LogisticRegression(max_iter=1000)\n",
    "log_model.fit(X_train_rus,y_train_rus)\n",
    "log_pred_rus=log_model.predict(X_test)\n",
    "log_report_rus=classification_report(y_test,log_pred_rus)\n",
    "log_cm_rus=confusion_matrix(y_test,log_pred_rus)\n",
    "print(log_report_rus)\n",
    "log_cm_rus"
   ]
  },
  {
   "cell_type": "code",
   "execution_count": 211,
   "id": "896a86e4-0334-43c3-b31a-48f2b6f4f496",
   "metadata": {},
   "outputs": [],
   "source": [
    "### Recall increased but Precision Decreased "
   ]
  },
  {
   "cell_type": "markdown",
   "id": "ba9d1bac-4ae4-4798-a7d5-85531f4ef217",
   "metadata": {},
   "source": [
    "###  2 SMOTE technique"
   ]
  },
  {
   "cell_type": "code",
   "execution_count": 214,
   "id": "34958f58-e39e-4a8c-927f-d416325bdd6b",
   "metadata": {},
   "outputs": [],
   "source": [
    "from imblearn.over_sampling import SMOTE"
   ]
  },
  {
   "cell_type": "code",
   "execution_count": 216,
   "id": "7d836554-670b-455c-9d62-04a64ec1c3d5",
   "metadata": {},
   "outputs": [
    {
     "data": {
      "text/plain": [
       "Churn\n",
       "0    1872\n",
       "1    1872\n",
       "Name: count, dtype: int64"
      ]
     },
     "execution_count": 216,
     "metadata": {},
     "output_type": "execute_result"
    }
   ],
   "source": [
    "smote=SMOTE(random_state=42)\n",
    "X_train_smote,y_train_smote=smote.fit_resample(X_train,y_train)\n",
    "y_train_smote.value_counts()"
   ]
  },
  {
   "cell_type": "code",
   "execution_count": 218,
   "id": "bb237565-63de-48ca-9e16-ef6b6ae39f7f",
   "metadata": {},
   "outputs": [
    {
     "data": {
      "text/plain": [
       "<Axes: xlabel='Churn'>"
      ]
     },
     "execution_count": 218,
     "metadata": {},
     "output_type": "execute_result"
    },
    {
     "data": {
      "image/png": "[encoded data removed]",
      "text/plain": [
       "<Figure size 640x480 with 1 Axes>"
      ]
     },
     "metadata": {},
     "output_type": "display_data"
    }
   ],
   "source": [
    "y_train_smote.value_counts().plot(kind='bar')"
   ]
  },
  {
   "cell_type": "code",
   "execution_count": 220,
   "id": "b3ba70aa-d14d-4bfe-8be1-1e54c5d42ce6",
   "metadata": {},
   "outputs": [
    {
     "name": "stdout",
     "output_type": "stream",
     "text": [
      "              precision    recall  f1-score   support\n",
      "\n",
      "           0       0.96      0.82      0.88       783\n",
      "           1       0.49      0.83      0.62       162\n",
      "\n",
      "    accuracy                           0.82       945\n",
      "   macro avg       0.72      0.83      0.75       945\n",
      "weighted avg       0.88      0.82      0.84       945\n",
      "\n"
     ]
    },
    {
     "data": {
      "text/plain": [
       "array([[642, 141],\n",
       "       [ 27, 135]], dtype=int64)"
      ]
     },
     "execution_count": 220,
     "metadata": {},
     "output_type": "execute_result"
    }
   ],
   "source": [
    "log_model=LogisticRegression(max_iter=1000)\n",
    "log_model.fit(X_train_smote,y_train_smote)\n",
    "log_pred_smote=log_model.predict(X_test)\n",
    "log_report_smote=classification_report(y_test,log_pred_smote)\n",
    "log_cm_smote=confusion_matrix(y_test,log_pred_smote)\n",
    "print(log_report_smote)\n",
    "log_cm_smote"
   ]
  },
  {
   "cell_type": "markdown",
   "id": "32a9b3a9-d59a-40d9-a4cd-eb1e3aab08b8",
   "metadata": {},
   "source": [
    "### smotetomek"
   ]
  },
  {
   "cell_type": "code",
   "execution_count": 225,
   "id": "40442535-8277-4345-87a4-4e5e0e1881bf",
   "metadata": {},
   "outputs": [],
   "source": [
    "from imblearn.combine import SMOTETomek\n",
    "smote_tomek=SMOTETomek()"
   ]
  },
  {
   "cell_type": "code",
   "execution_count": 227,
   "id": "6e559b34-441b-40d2-8ffc-071b1cc2d023",
   "metadata": {},
   "outputs": [
    {
     "data": {
      "text/plain": [
       "Churn\n",
       "0    1865\n",
       "1    1865\n",
       "Name: count, dtype: int64"
      ]
     },
     "execution_count": 227,
     "metadata": {},
     "output_type": "execute_result"
    }
   ],
   "source": [
    "X_train_smote_tomek,y_train_smote_tomek=smote_tomek.fit_resample(X_train,y_train)\n",
    "y_train_smote_tomek.value_counts()"
   ]
  },
  {
   "cell_type": "code",
   "execution_count": 229,
   "id": "17112ab8-0385-4fe6-a1e1-7b26147002fa",
   "metadata": {},
   "outputs": [
    {
     "name": "stdout",
     "output_type": "stream",
     "text": [
      "              precision    recall  f1-score   support\n",
      "\n",
      "           0       0.96      0.82      0.88       783\n",
      "           1       0.49      0.84      0.62       162\n",
      "\n",
      "    accuracy                           0.82       945\n",
      "   macro avg       0.73      0.83      0.75       945\n",
      "weighted avg       0.88      0.82      0.84       945\n",
      "\n"
     ]
    },
    {
     "data": {
      "text/plain": [
       "array([[641, 142],\n",
       "       [ 26, 136]], dtype=int64)"
      ]
     },
     "execution_count": 229,
     "metadata": {},
     "output_type": "execute_result"
    }
   ],
   "source": [
    "log_model=LogisticRegression(max_iter=1000)\n",
    "log_model.fit(X_train_smote_tomek,y_train_smote_tomek)\n",
    "log_pred_smote_tomek=log_model.predict(X_test)\n",
    "log_report_smote_tomek=classification_report(y_test,log_pred_smote_tomek)\n",
    "log_cm_smote_tomek=confusion_matrix(y_test,log_pred_smote_tomek)\n",
    "print(log_report_smote_tomek)\n",
    "log_cm_smote_tomek"
   ]
  },
  {
   "cell_type": "code",
   "execution_count": null,
   "id": "c091b54d-3914-4b9c-be89-e8d117e03d41",
   "metadata": {},
   "outputs": [],
   "source": []
  }
 ],
 "metadata": {
  "kernelspec": {
   "display_name": "Python 3 (ipykernel)",
   "language": "python",
   "name": "python3"
  },
  "language_info": {
   "codemirror_mode": {
    "name": "ipython",
    "version": 3
   },
   "file_extension": ".py",
   "mimetype": "text/x-python",
   "name": "python",
   "nbconvert_exporter": "python",
   "pygments_lexer": "ipython3",
   "version": "3.12.4"
  }
 },
 "nbformat": 4,
 "nbformat_minor": 5
}
